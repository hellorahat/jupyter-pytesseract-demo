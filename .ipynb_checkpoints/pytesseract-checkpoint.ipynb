{
 "cells": [
  {
   "cell_type": "code",
   "execution_count": 2,
   "id": "0104375d-c057-496c-9fb0-e4d932995003",
   "metadata": {
    "tags": []
   },
   "outputs": [],
   "source": [
    "import pytesseract\n",
    "import re\n",
    "import cv2\n",
    "import numpy as np\n",
    "from PIL import Image"
   ]
  },
  {
   "cell_type": "code",
   "execution_count": 3,
   "id": "6aabf88c-ec85-4ccf-9dd2-23d873f75264",
   "metadata": {
    "tags": []
   },
   "outputs": [],
   "source": [
    "# img = Image.open(\"sample1.jpg\")\n",
    "img = Image.open(\"sample5.jpg\")\n",
    "### Convert Image ###\n",
    "src = cv2.imread(\"sample5.jpg\")\n",
    "gray = cv2.cvtColor(src, cv2.COLOR_BGR2GRAY) #grayscale\n",
    "blur = cv2.GaussianBlur(gray, (0,0), sigmaX=33, sigmaY=33)\n",
    "divide = cv2.divide(gray, blur, scale=255)\n",
    "thresh = cv2.threshold(divide, 0, 255, cv2.THRESH_BINARY+cv2.THRESH_OTSU)[1]\n",
    "kernel = cv2.getStructuringElement(cv2.MORPH_RECT,(3,3))\n",
    "morph = cv2.morphologyEx(thresh,cv2.MORPH_CLOSE,kernel)\n",
    "sharpenKernel = np.array([[-1,-1,-1], [-1,9,-1], [-1,-1,-1]])\n",
    "sharpened = cv2.filter2D(divide, -1, sharpenKernel)"
   ]
  },
  {
   "cell_type": "code",
   "execution_count": 4,
   "id": "513f7b60-5319-467a-b6ac-f45e11ce3e84",
   "metadata": {
    "tags": []
   },
   "outputs": [
    {
     "name": "stdout",
     "output_type": "stream",
     "text": [
      "\n"
     ]
    }
   ],
   "source": [
    "print(pytesseract.image_to_string(src))"
   ]
  },
  {
   "cell_type": "code",
   "execution_count": 33,
   "id": "bd3adffb-eed6-47f9-ac19-725de422ad32",
   "metadata": {
    "tags": []
   },
   "outputs": [
    {
     "name": "stdout",
     "output_type": "stream",
     "text": [
      "“tragedy, cae rth Plagueis\n",
      "the: Wiser tthought not.\n",
      "IGS hota i tre Jed)\n",
      "\n",
      "Wotifel call vou, It’s a Sitn\n",
      "\n",
      "\n"
     ]
    }
   ],
   "source": [
    "print(pytesseract.image_to_string(gray))"
   ]
  },
  {
   "cell_type": "code",
   "execution_count": 34,
   "id": "a22b0647-5f2a-4b71-aa23-3ae0010213c6",
   "metadata": {
    "tags": []
   },
   "outputs": [
    {
     "name": "stdout",
     "output_type": "stream",
     "text": [
      "“Did you. éver hear the\n",
      "“tragedy. of:Darth Plagueis\n",
      "“the: Wise? LE thought not.\n",
      "\n",
      "mcmalelmremswory tre Jeci\n",
      "would tell yOIMSEmSiing\n",
      "legetstar\n",
      "\n",
      "\n"
     ]
    }
   ],
   "source": [
    "print(pytesseract.image_to_string(divide))"
   ]
  },
  {
   "cell_type": "code",
   "execution_count": 35,
   "id": "dc34fe71-e3b4-49cb-832f-763bfdc50407",
   "metadata": {
    "tags": []
   },
   "outputs": [
    {
     "name": "stdout",
     "output_type": "stream",
     "text": [
      "Did you. é ever hear the\n",
      "“tragedy of:Darth Plagueis\n",
      "- the Wise? T thought not.\n",
      "\n",
      "mcmalelmemsory tre Jeci\n",
      "would tell yOIMSEmSiind\n",
      "legetstar\n",
      "\n",
      "\n"
     ]
    }
   ],
   "source": [
    "print(pytesseract.image_to_string(thresh))"
   ]
  },
  {
   "cell_type": "code",
   "execution_count": 36,
   "id": "01dfd18d-38f7-44f2-9fa2-d4ec3186791f",
   "metadata": {
    "tags": []
   },
   "outputs": [
    {
     "name": "stdout",
     "output_type": "stream",
     "text": [
      ".» Did you_ever hear the\n",
      "“tragedy of:Darth Plagueis\n",
      "\n",
      "- the Wise? I thought not.\n",
      "\n",
      "It’s not a StymVAinstewe lore)\n",
      "would tell yOUIMSEESiind\n",
      "legetdtar\n",
      "\n",
      "\n"
     ]
    }
   ],
   "source": [
    "print(pytesseract.image_to_string(morph))"
   ]
  },
  {
   "cell_type": "code",
   "execution_count": 37,
   "id": "8ec48c0e-4970-4f74-a418-862612ea3113",
   "metadata": {
    "tags": []
   },
   "outputs": [
    {
     "name": "stdout",
     "output_type": "stream",
     "text": [
      "Did OU. ever hear the\n",
      "\n",
      "‘tragedy, ‘Of: Darth Plagueis\n",
      "\n",
      "3 S thes Wise? LE thought not.\n",
      "ory t\n",
      "\n",
      "uy, It’\n",
      "\n",
      "\n"
     ]
    }
   ],
   "source": [
    "print(pytesseract.image_to_string(sharpened))"
   ]
  },
  {
   "cell_type": "code",
   "execution_count": 25,
   "id": "d95713bb-e7dc-46ee-9ba6-e0c414808cdb",
   "metadata": {
    "tags": []
   },
   "outputs": [],
   "source": [
    "pdf = pytesseract.image_to_pdf_or_hocr(img, extension='pdf')\n",
    "with open('sample.pdf', 'w+b') as f:\n",
    "    f.write(pdf) # pdf type is bytes by default\n",
    "pdf = pytesseract.image_to_pdf_or_hocr(blur, extension='pdf')\n",
    "with open('sampleBlur.pdf', 'w+b') as f:\n",
    "    f.write(pdf) # pdf type is bytes by default\n",
    "pdf = pytesseract.image_to_pdf_or_hocr(sharpened, extension='pdf')\n",
    "with open('sampleSharpened.pdf', 'w+b') as f:\n",
    "    f.write(pdf) # pdf type is bytes by default\n",
    "pdf = pytesseract.image_to_pdf_or_hocr(divide, extension='pdf')\n",
    "with open('sampleDivision.pdf', 'w+b') as f:\n",
    "    f.write(pdf) # pdf type is bytes by default\n",
    "pdf = pytesseract.image_to_pdf_or_hocr(thresh, extension='pdf')\n",
    "with open('sampleTresholded.pdf', 'w+b') as f:\n",
    "    f.write(pdf) # pdf type is bytes by default\n",
    "pdf = pytesseract.image_to_pdf_or_hocr(morph, extension='pdf')\n",
    "with open('sampleMorphology.pdf', 'w+b') as f:\n",
    "    f.write(pdf) # pdf type is bytes by default"
   ]
  },
  {
   "cell_type": "code",
   "execution_count": 26,
   "id": "9296dbb6-0700-4444-b418-e83a8bc03710",
   "metadata": {
    "tags": []
   },
   "outputs": [],
   "source": [
    "pdf = pytesseract.image_to_pdf_or_hocr(sharpened, extension='pdf')\n",
    "with open('sampleDivisionSharpened.pdf', 'w+b') as f:\n",
    "    f.write(pdf) # pdf type is bytes by default"
   ]
  }
 ],
 "metadata": {
  "kernelspec": {
   "display_name": "Python 3 (ipykernel)",
   "language": "python",
   "name": "python3"
  },
  "language_info": {
   "codemirror_mode": {
    "name": "ipython",
    "version": 3
   },
   "file_extension": ".py",
   "mimetype": "text/x-python",
   "name": "python",
   "nbconvert_exporter": "python",
   "pygments_lexer": "ipython3",
   "version": "3.11.3"
  }
 },
 "nbformat": 4,
 "nbformat_minor": 5
}
