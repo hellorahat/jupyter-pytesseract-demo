{
 "cells": [
  {
   "cell_type": "code",
   "execution_count": 74,
   "id": "0104375d-c057-496c-9fb0-e4d932995003",
   "metadata": {
    "tags": []
   },
   "outputs": [],
   "source": [
    "import pytesseract\n",
    "import re\n",
    "import cv2\n",
    "import numpy as np\n",
    "from PIL import Image\n",
    "pytesseract.pytesseract.tesseract_cmd = r'C:\\Users\\rsaza\\AppData\\Local\\Programs\\Tesseract-OCR\\tesseract.exe'"
   ]
  },
  {
   "cell_type": "code",
   "execution_count": 97,
   "id": "6aabf88c-ec85-4ccf-9dd2-23d873f75264",
   "metadata": {
    "tags": []
   },
   "outputs": [],
   "source": [
    "# img = Image.open(\"sample1.jpg\")\n",
    "img = Image.open(\"sample1.jpg\")\n",
    "### Convert Image ###\n",
    "src = cv2.imread(\"sample1.jpg\")\n",
    "gray = cv2.cvtColor(src, cv2.COLOR_BGR2GRAY) #grayscale\n",
    "blur = cv2.GaussianBlur(gray, (0,0), sigmaX=33, sigmaY=33)\n",
    "divide = cv2.divide(gray, blur, scale=255)\n",
    "thresh = cv2.threshold(divide, 0, 255, cv2.THRESH_BINARY+cv2.THRESH_OTSU)[1]\n",
    "kernel = cv2.getStructuringElement(cv2.MORPH_RECT,(3,3))\n",
    "morph = cv2.morphologyEx(thresh,cv2.MORPH_CLOSE,kernel)\n",
    "sharpenKernel = np.array([[-1,-1,-1], [-1,9,-1], [-1,-1,-1]])\n",
    "sharpened = cv2.filter2D(divide, -1, sharpenKernel)"
   ]
  },
  {
   "cell_type": "code",
   "execution_count": 94,
   "id": "513f7b60-5319-467a-b6ac-f45e11ce3e84",
   "metadata": {
    "tags": []
   },
   "outputs": [
    {
     "name": "stdout",
     "output_type": "stream",
     "text": [
      "100\n",
      "\n",
      "There exist. several met design forms with, fields to\n",
      "fields may be surroundet BH Bounding bores. by light rectangles\n",
      "\n",
      "methods specify whér@yo write and, therefore, minimize the effe\n",
      "with other parts of the rm. Thése guides can be located on a s\n",
      "is located below the form or they can be printed directly on the fi\n",
      "a separate sheet is much better from the point of view of the qu\n",
      "but requires giving more instructions and, more anportantly, res\n",
      "this type of acquisition is used. Guiding rulers printed on the\n",
      "used for this sLight rectangles can be removed more easily]\n",
      "whenever thi itten text touches the rulers. Nevertheless.\n",
      "ccount: The best way to print these light rectan|\n",
      "\n",
      "100 Bo Et) 0 60\n",
      "\n",
      "\n"
     ]
    }
   ],
   "source": [
    "print(pytesseract.image_to_string(divide))"
   ]
  },
  {
   "cell_type": "code",
   "execution_count": 88,
   "id": "d95713bb-e7dc-46ee-9ba6-e0c414808cdb",
   "metadata": {
    "tags": []
   },
   "outputs": [],
   "source": [
    "pdf = pytesseract.image_to_pdf_or_hocr(img, extension='pdf')\n",
    "with open('sample.pdf', 'w+b') as f:\n",
    "    f.write(pdf) # pdf type is bytes by default\n",
    "pdf = pytesseract.image_to_pdf_or_hocr(blur, extension='pdf')\n",
    "with open('sampleBlur.pdf', 'w+b') as f:\n",
    "    f.write(pdf) # pdf type is bytes by default\n",
    "pdf = pytesseract.image_to_pdf_or_hocr(sharpened, extension='pdf')\n",
    "with open('sampleSharpened.pdf', 'w+b') as f:\n",
    "    f.write(pdf) # pdf type is bytes by default\n",
    "pdf = pytesseract.image_to_pdf_or_hocr(divide, extension='pdf')\n",
    "with open('sampleDivision.pdf', 'w+b') as f:\n",
    "    f.write(pdf) # pdf type is bytes by default\n",
    "pdf = pytesseract.image_to_pdf_or_hocr(thresh, extension='pdf')\n",
    "with open('sampleTresholded.pdf', 'w+b') as f:\n",
    "    f.write(pdf) # pdf type is bytes by default\n",
    "pdf = pytesseract.image_to_pdf_or_hocr(morph, extension='pdf')\n",
    "with open('sampleMorphology.pdf', 'w+b') as f:\n",
    "    f.write(pdf) # pdf type is bytes by default"
   ]
  },
  {
   "cell_type": "code",
   "execution_count": 98,
   "id": "9296dbb6-0700-4444-b418-e83a8bc03710",
   "metadata": {
    "tags": []
   },
   "outputs": [],
   "source": [
    "pdf = pytesseract.image_to_pdf_or_hocr(sharpened, extension='pdf')\n",
    "with open('sampleDivisionSharpened.pdf', 'w+b') as f:\n",
    "    f.write(pdf) # pdf type is bytes by default"
   ]
  }
 ],
 "metadata": {
  "kernelspec": {
   "display_name": "Python 3 (ipykernel)",
   "language": "python",
   "name": "python3"
  },
  "language_info": {
   "codemirror_mode": {
    "name": "ipython",
    "version": 3
   },
   "file_extension": ".py",
   "mimetype": "text/x-python",
   "name": "python",
   "nbconvert_exporter": "python",
   "pygments_lexer": "ipython3",
   "version": "3.11.3"
  }
 },
 "nbformat": 4,
 "nbformat_minor": 5
}
