{
 "cells": [
  {
   "cell_type": "code",
   "execution_count": 43,
   "metadata": {},
   "outputs": [
    {
     "name": "stdout",
     "output_type": "stream",
     "text": [
      "[2023/08/02 07:22:51] ppocr DEBUG: Namespace(help='==SUPPRESS==', use_gpu=False, use_xpu=False, use_npu=False, ir_optim=True, use_tensorrt=False, min_subgraph_size=15, precision='fp32', gpu_mem=500, image_dir=None, page_num=0, det_algorithm='DB', det_model_dir='C:\\\\Users\\\\hello/.paddleocr/whl\\\\det\\\\en\\\\en_PP-OCRv3_det_infer', det_limit_side_len=960, det_limit_type='max', det_box_type='quad', det_db_thresh=0.3, det_db_box_thresh=0.6, det_db_unclip_ratio=1.5, max_batch_size=10, use_dilation=False, det_db_score_mode='fast', det_east_score_thresh=0.8, det_east_cover_thresh=0.1, det_east_nms_thresh=0.2, det_sast_score_thresh=0.5, det_sast_nms_thresh=0.2, det_pse_thresh=0, det_pse_box_thresh=0.85, det_pse_min_area=16, det_pse_scale=1, scales=[8, 16, 32], alpha=1.0, beta=1.0, fourier_degree=5, rec_algorithm='SVTR_LCNet', rec_model_dir='C:\\\\Users\\\\hello/.paddleocr/whl\\\\rec\\\\en\\\\en_PP-OCRv3_rec_infer', rec_image_inverse=True, rec_image_shape='3, 48, 320', rec_batch_num=6, max_text_length=25, rec_char_dict_path='c:\\\\Python\\\\Python39\\\\lib\\\\site-packages\\\\paddleocr\\\\ppocr\\\\utils\\\\en_dict.txt', use_space_char=True, vis_font_path='./doc/fonts/simfang.ttf', drop_score=0.5, e2e_algorithm='PGNet', e2e_model_dir=None, e2e_limit_side_len=768, e2e_limit_type='max', e2e_pgnet_score_thresh=0.5, e2e_char_dict_path='./ppocr/utils/ic15_dict.txt', e2e_pgnet_valid_set='totaltext', e2e_pgnet_mode='fast', use_angle_cls=True, cls_model_dir='C:\\\\Users\\\\hello/.paddleocr/whl\\\\cls\\\\ch_ppocr_mobile_v2.0_cls_infer', cls_image_shape='3, 48, 192', label_list=['0', '180'], cls_batch_num=6, cls_thresh=0.9, enable_mkldnn=False, cpu_threads=10, use_pdserving=False, warmup=False, sr_model_dir=None, sr_image_shape='3, 32, 128', sr_batch_num=1, draw_img_save_dir='./inference_results', save_crop_res=False, crop_res_save_dir='./output', use_mp=False, total_process_num=1, process_id=0, benchmark=False, save_log_path='./log_output/', show_log=True, use_onnx=False, output='./output', table_max_len=488, table_algorithm='TableAttn', table_model_dir=None, merge_no_span_structure=True, table_char_dict_path=None, layout_model_dir=None, layout_dict_path=None, layout_score_threshold=0.5, layout_nms_threshold=0.5, kie_algorithm='LayoutXLM', ser_model_dir=None, re_model_dir=None, use_visual_backbone=True, ser_dict_path='../train_data/XFUND/class_list_xfun.txt', ocr_order_method=None, mode='structure', image_orientation=False, layout=True, table=True, ocr=True, recovery=False, use_pdf2docx_api=False, lang='en', det=True, rec=True, type='ocr', ocr_version='PP-OCRv3', structure_version='PP-StructureV2')\n"
     ]
    }
   ],
   "source": [
    "from paddleocr import PaddleOCR,draw_ocr\n",
    "ocr = PaddleOCR(use_angle_cls=True, lang='en') # need to run only once to download and load model into memory\n",
    "import os\n",
    "from PIL import Image\n",
    "from PIL import ImageFont"
   ]
  },
  {
   "cell_type": "code",
   "execution_count": 60,
   "metadata": {},
   "outputs": [
    {
     "name": "stdout",
     "output_type": "stream",
     "text": [
      "[2023/08/02 08:01:17] ppocr DEBUG: dt_boxes num : 32, elapse : 0.38144731521606445\n",
      "[2023/08/02 08:01:18] ppocr DEBUG: cls num  : 32, elapse : 0.37195730209350586\n",
      "[2023/08/02 08:01:23] ppocr DEBUG: rec_res num  : 32, elapse : 5.3691627979278564\n",
      "[[[16.0, 1.0], [103.0, 4.0], [102.0, 25.0], [15.0, 22.0]], ('OneClass', 0.9936561584472656)]\n",
      "[[[317.0, 6.0], [507.0, 6.0], [507.0, 19.0], [317.0, 19.0]], ('find more resources at oneclass.com', 0.9872327446937561)]\n",
      "[[[70.0, 85.0], [276.0, 80.0], [276.0, 100.0], [70.0, 105.0]], ('Maior pat of ne Brain', 0.744336724281311)]\n",
      "[[[80.0, 105.0], [162.0, 105.0], [162.0, 123.0], [80.0, 123.0]], ('-Corebram', 0.794745683670044)]\n",
      "[[[95.0, 124.0], [201.0, 122.0], [201.0, 142.0], [95.0, 144.0]], ('Aontai lobes', 0.6207154989242554)]\n",
      "[[[95.0, 144.0], [216.0, 142.0], [216.0, 163.0], [95.0, 166.0]], ('Dparetai jabes', 0.7210587859153748)]\n",
      "[[[94.0, 161.0], [221.0, 164.0], [221.0, 188.0], [94.0, 185.0]], ('Asccipita tobes', 0.8019744157791138)]\n",
      "[[[93.0, 182.0], [226.0, 182.0], [226.0, 207.0], [93.0, 207.0]], ('Dtempra lobes', 0.7333568930625916)]\n",
      "[[[93.0, 205.0], [166.0, 202.0], [166.0, 223.0], [93.0, 226.0]], ('mswt<', 0.5204091668128967)]\n",
      "[[[76.0, 224.0], [187.0, 224.0], [187.0, 245.0], [76.0, 245.0]], ('Dienephalon', 0.918806791305542)]\n",
      "[[[76.0, 245.0], [169.0, 245.0], [169.0, 263.0], [76.0, 263.0]], ('-Cerehelim', 0.765903115272522)]\n",
      "[[[74.0, 264.0], [171.0, 266.0], [171.0, 284.0], [74.0, 282.0]], ('-Braunstem', 0.8651992678642273)]\n",
      "[[[88.0, 305.0], [147.0, 305.0], [147.0, 323.0], [88.0, 323.0]], ('tPons', 0.6770929098129272)]\n",
      "[[[93.0, 323.0], [255.0, 317.0], [256.0, 338.0], [94.0, 344.0]], ('Dfedaila Oblongata', 0.7474730014801025)]\n",
      "[[[58.0, 343.0], [283.0, 340.0], [283.0, 361.0], [58.0, 364.0]], ('Struchure_of He Cerebrum', 0.8902934193611145)]\n",
      "[[[64.0, 362.0], [451.0, 359.0], [451.0, 380.0], [64.0, 383.0]], ('-Corpas Cailosum:Connects cerebrai hemispheres', 0.867191731929779)]\n",
      "[[[62.0, 384.0], [179.0, 382.0], [179.0, 403.0], [62.0, 405.0]], ('(a.commissare)', 0.9491615891456604)]\n",
      "[[[64.0, 402.0], [308.0, 399.0], [308.0, 422.0], [64.0, 425.0]], ('CyrBumpsarConvsutions', 0.73774653673172)]\n",
      "[[[63.0, 422.0], [464.0, 416.0], [464.0, 440.0], [63.0, 446.0]], ('Salci:Garooves n qraymatter (cemral swcus)', 0.8371855616569519)]\n",
      "[[[64.0, 445.0], [140.0, 445.0], [140.0, 462.0], [64.0, 462.0]], ('-Fissures:', 0.9304758906364441)]\n",
      "[[[84.0, 460.0], [456.0, 457.0], [456.0, 480.0], [84.0, 483.0]], ('D Longitudinal:sepraes crebrai hemispheres', 0.8454444408416748)]\n",
      "[[[85.0, 482.0], [469.0, 480.0], [469.0, 500.0], [85.0, 502.0]], (' Transverse:separates cerebum fro.m_corelellum', 0.7938392758369446)]\n",
      "[[[82.0, 501.0], [320.0, 500.0], [320.0, 520.0], [82.0, 521.0]], ('D later fssure of Sulvius', 0.765564501285553)]\n",
      "[[[42.0, 522.0], [396.0, 519.0], [396.0, 539.0], [42.0, 542.0]], ('Lobs of Yhe_Cerelorum  biatera loles', 0.7783463597297668)]\n",
      "[[[59.0, 544.0], [172.0, 544.0], [172.0, 561.0], [59.0, 561.0]], ('-Frowtu lobe', 0.7758581042289734)]\n",
      "[[[58.0, 561.0], [175.0, 564.0], [175.0, 584.0], [58.0, 581.0]], ('-Parietailobe', 0.8364941477775574)]\n",
      "[[[58.0, 584.0], [179.0, 584.0], [179.0, 604.0], [58.0, 604.0]], ('Temporailobe', 0.8343901634216309)]\n",
      "[[[57.0, 604.0], [183.0, 601.0], [183.0, 623.0], [57.0, 625.0]], ('-Occipitai lobe', 0.8293811082839966)]\n",
      "[[[55.0, 623.0], [296.0, 618.0], [296.0, 642.0], [55.0, 646.0]], ('-inswa (aka ts!and of Rei)', 0.8201488852500916)]\n",
      "[[[3.0, 742.0], [160.0, 744.0], [160.0, 765.0], [3.0, 763.0]], ('sOneClassScanner', 0.9655963778495789)]\n",
      "[[[318.0, 749.0], [506.0, 749.0], [506.0, 762.0], [318.0, 762.0]], ('find more resources at oneclass.com', 0.9958328008651733)]\n",
      "[2023/08/02 08:01:23] ppocr DEBUG: dt_boxes num : 12, elapse : 0.24047374725341797\n",
      "[2023/08/02 08:01:24] ppocr DEBUG: cls num  : 12, elapse : 0.1383528709411621\n",
      "[2023/08/02 08:01:26] ppocr DEBUG: rec_res num  : 12, elapse : 2.3408682346343994\n",
      "[[[555.0, 117.0], [649.0, 117.0], [649.0, 130.0], [555.0, 130.0]], ('COMPANY NAME', 0.9769584536552429)]\n",
      "[[[568.0, 131.0], [636.0, 131.0], [636.0, 141.0], [568.0, 141.0]], ('TAGLINE HERE', 0.994608461856842)]\n",
      "[[[118.0, 182.0], [240.0, 182.0], [240.0, 199.0], [118.0, 199.0]], ('(711) 265-9193', 0.9310089945793152)]\n",
      "[[[119.0, 203.0], [240.0, 203.0], [240.0, 218.0], [119.0, 218.0]], ('(711) 376-9284', 0.9268692135810852)]\n",
      "[[[360.0, 238.0], [639.0, 240.0], [639.0, 268.0], [360.0, 266.0]], ('Shaun Whitmore', 0.997180163860321)]\n",
      "[[[46.0, 248.0], [240.0, 251.0], [240.0, 265.0], [46.0, 263.0]], ('shaun.w@company.com', 0.9969797730445862)]\n",
      "[[[84.0, 271.0], [240.0, 271.0], [240.0, 285.0], [84.0, 285.0]], ('www.company.com', 0.9959284663200378)]\n",
      "[[[360.0, 281.0], [583.0, 284.0], [583.0, 298.0], [360.0, 296.0]], ('AGRICULTURAL ENGINEER', 0.9726313352584839)]\n",
      "[[[52.0, 309.0], [238.0, 311.0], [238.0, 329.0], [52.0, 327.0]], ('2495 Werninger Street', 0.976107656955719)]\n",
      "[[[84.0, 332.0], [238.0, 332.0], [238.0, 346.0], [84.0, 346.0]], ('Houston,TX,77002', 0.9323023557662964)]\n",
      "[2023/08/02 08:01:26] ppocr DEBUG: dt_boxes num : 18, elapse : 0.151139497756958\n",
      "[2023/08/02 08:01:26] ppocr DEBUG: cls num  : 18, elapse : 0.2046036720275879\n",
      "[2023/08/02 08:01:33] ppocr DEBUG: rec_res num  : 18, elapse : 6.6025941371917725\n",
      "[[[64.0, 12.0], [486.0, 12.0], [486.0, 29.0], [64.0, 29.0]], ('There erist several methods to design forms with fields to', 0.9610378742218018)]\n",
      "[[[33.0, 33.0], [489.0, 33.0], [489.0, 50.0], [33.0, 50.0]], ('fields may be surrounded by bounding boxes,by light rectangles ', 0.934471070766449)]\n",
      "[[[33.0, 53.0], [490.0, 53.0], [490.0, 69.0], [33.0, 69.0]], ('methods specify where to write and, therefore, minimize the effe', 0.9315482974052429)]\n",
      "[[[35.0, 73.0], [489.0, 73.0], [489.0, 87.0], [35.0, 87.0]], ('with other parts of the form. These guides can be located on a s', 0.9491010904312134)]\n",
      "[[[33.0, 93.0], [489.0, 93.0], [489.0, 107.0], [33.0, 107.0]], ('is located below the form or they can be printed directly on the J', 0.9311432838439941)]\n",
      "[[[32.0, 110.0], [491.0, 110.0], [491.0, 130.0], [32.0, 130.0]], ('a separate sheet is much better from the point of view of the qu', 0.9423650503158569)]\n",
      "[[[4.0, 131.0], [29.0, 131.0], [29.0, 143.0], [4.0, 143.0]], ('150', 0.9967477321624756)]\n",
      "[[[30.0, 131.0], [491.0, 132.0], [491.0, 149.0], [30.0, 148.0]], ('but requires giving more instructions and,more importantly,res', 0.9581736922264099)]\n",
      "[[[34.0, 153.0], [488.0, 153.0], [488.0, 167.0], [34.0, 167.0]], ('this type of acquisition is used. Guiding rulers printed on the', 0.933296799659729)]\n",
      "[[[6.0, 175.0], [31.0, 175.0], [31.0, 186.0], [6.0, 186.0]], ('200', 0.9984340071678162)]\n",
      "[[[31.0, 169.0], [490.0, 169.0], [490.0, 189.0], [31.0, 189.0]], ('used for this reason.-Light rectangles can be removed more easily', 0.9468817710876465)]\n",
      "[[[32.0, 188.0], [488.0, 189.0], [488.0, 208.0], [32.0, 207.0]], ('whenever the handwritten text touches the rulers. Nevertheless.', 0.9604147672653198)]\n",
      "[[[21.0, 231.0], [33.0, 231.0], [33.0, 247.0], [21.0, 247.0]], ('o', 0.573563277721405)]\n",
      "[[[102.0, 228.0], [126.0, 228.0], [126.0, 250.0], [102.0, 250.0]], ('100', 0.9674160480499268)]\n",
      "[[[188.0, 229.0], [212.0, 229.0], [212.0, 250.0], [188.0, 250.0]], ('200', 0.9165948033332825)]\n",
      "[[[273.0, 228.0], [299.0, 228.0], [299.0, 249.0], [273.0, 249.0]], ('300', 0.7743906378746033)]\n",
      "[[[362.0, 230.0], [384.0, 230.0], [384.0, 248.0], [362.0, 248.0]], ('400', 0.9950266480445862)]\n",
      "[[[447.0, 228.0], [473.0, 228.0], [473.0, 250.0], [447.0, 250.0]], ('500', 0.7757647633552551)]\n",
      "[2023/08/02 08:01:33] ppocr DEBUG: dt_boxes num : 21, elapse : 0.3417065143585205\n",
      "[2023/08/02 08:01:33] ppocr DEBUG: cls num  : 21, elapse : 0.23845696449279785\n",
      "[2023/08/02 08:01:42] ppocr DEBUG: rec_res num  : 21, elapse : 8.373565435409546\n",
      "[[[45.0, 40.0], [562.0, 40.0], [562.0, 63.0], [45.0, 63.0]], ('sn oe Istroel Sae ycars sga-never rand ho', 0.6031007766723633)]\n",
      "[[[13.0, 72.0], [564.0, 72.0], [564.0, 96.0], [13.0, 96.0]], ('Iong wecisely-raving huk n rn money in iny poe.', 0.730363130569458)]\n",
      "[[[16.0, 104.0], [562.0, 103.0], [562.0, 124.0], [16.0, 125.0]], ('an notoparcienarto interest oe on storl rhoght', 0.6391350626945496)]\n",
      "[[[13.0, 134.0], [562.0, 135.0], [562.0, 157.0], [13.0, 156.0]], ('wokd sal zbuta Hede ad see che wateryyar of he', 0.6143739819526672)]\n",
      "[[[14.0, 167.0], [564.0, 167.0], [564.0, 187.0], [14.0, 187.0]], ('weriilerapaylave cfrvugoethesokea', 0.5872008204460144)]\n",
      "[[[16.0, 199.0], [566.0, 195.0], [567.0, 219.0], [16.0, 222.0]], ('ragnatre wsoreaationWheoever I bad nyet', 0.6300984621047974)]\n",
      "[[[17.0, 230.0], [562.0, 230.0], [562.0, 253.0], [17.0, 253.0]], ('srowing gin abont ta roueh wehcnever i es a dane', 0.6881682872772217)]\n",
      "[[[15.0, 292.0], [566.0, 291.0], [566.0, 316.0], [15.0, 317.0]], ('nvolurtarlypausng baorecotrawarehoutes.au', 0.6784493327140808)]\n",
      "[[[17.0, 326.0], [563.0, 325.0], [564.0, 345.0], [17.0, 346.0]], ('inepthereardveymralaneespay', 0.5641053915023804)]\n",
      "[[[17.0, 356.0], [566.0, 356.0], [566.0, 380.0], [17.0, 380.0]], ('wkenevor toyiyos yet sueh.upper hndof methi', 0.6058201193809509)]\n",
      "[[[16.0, 389.0], [562.0, 387.0], [563.0, 408.0], [16.0, 410.0]], ('TouiseaatroyRrapraipletopeveaoeLo', 0.5343511700630188)]\n",
      "[[[17.0, 419.0], [564.0, 419.0], [564.0, 443.0], [17.0, 443.0]], ('eiberstcy stepprg mro tr srkand netdcely', 0.5999637842178345)]\n",
      "[[[13.0, 450.0], [564.0, 449.0], [565.0, 472.0], [13.0, 473.0]], ('Koakirg oooptatcfnIacent thigh tineto', 0.6222076416015625)]\n",
      "[[[17.0, 482.0], [563.0, 481.0], [564.0, 503.0], [17.0, 504.0]], ('wet to seaas soon s I cvrThis is ny subioe for peste', 0.6407728791236877)]\n",
      "[[[14.0, 514.0], [566.0, 514.0], [566.0, 534.0], [14.0, 534.0]], ('ardLallihaphoepnsal fouhCatothoehse', 0.6372675895690918)]\n",
      "[[[17.0, 547.0], [565.0, 547.0], [565.0, 567.0], [17.0, 567.0]], ('BoonresworI aaetytaetotheship.Tiet', 0.5656677484512329)]\n",
      "[[[13.0, 577.0], [563.0, 576.0], [564.0, 597.0], [13.0, 599.0]], ('notaing suypring in this.It they ko kwitainst al', 0.6263852715492249)]\n",
      "[[[14.0, 610.0], [562.0, 610.0], [562.0, 630.0], [14.0, 630.0]], ('erheirccesrereurohishwy', 0.5862915515899658)]\n",
      "[[[6.0, 641.0], [501.0, 641.0], [501.0, 662.0], [6.0, 662.0]], ('Bearly ge seroe cedes towards th oen with .', 0.6367948651313782)]\n",
      "[2023/08/02 08:01:42] ppocr DEBUG: dt_boxes num : 7, elapse : 0.4465303421020508\n",
      "[2023/08/02 08:01:42] ppocr DEBUG: cls num  : 7, elapse : 0.09378933906555176\n",
      "[2023/08/02 08:01:44] ppocr DEBUG: rec_res num  : 7, elapse : 1.693286657333374\n",
      "[[[180.0, 70.0], [1722.0, 61.0], [1722.0, 182.0], [180.0, 191.0]], ('Did you ever hear the', 0.9745365381240845)]\n",
      "[[[80.0, 234.0], [1844.0, 230.0], [1844.0, 357.0], [80.0, 361.0]], ('tragedy of Darth Plagueis', 0.9903696179389954)]\n",
      "[[[85.0, 385.0], [1806.0, 397.0], [1805.0, 538.0], [84.0, 526.0]], ('the Wise? I thought not.', 0.9985902905464172)]\n",
      "[[[152.0, 563.0], [1201.0, 591.0], [1198.0, 718.0], [149.0, 690.0]], (\"It's not a story\", 0.9954899549484253)]\n",
      "[[[1232.0, 588.0], [1783.0, 581.0], [1784.0, 691.0], [1233.0, 697.0]], ('the Jeci', 0.931315541267395)]\n",
      "[[[91.0, 740.0], [1840.0, 751.0], [1839.0, 878.0], [90.0, 867.0]], (\"would tell you. It's a Sith\", 0.9662831425666809)]\n",
      "[[[706.0, 912.0], [1249.0, 924.0], [1246.0, 1049.0], [703.0, 1038.0]], ('legerd.', 0.8964492678642273)]\n"
     ]
    }
   ],
   "source": [
    "count = 0\n",
    "for filename in os.listdir(\"samples\"):\n",
    "    img_path = filename\n",
    "    result = ocr.ocr('samples/' + img_path, cls=True)\n",
    "    for idx in range(len(result)):\n",
    "        res = result[idx]\n",
    "        for line in res:\n",
    "            print(line)\n",
    "\n",
    "\n",
    "    # draw result\n",
    "    from PIL import Image\n",
    "    result = result[0]\n",
    "    image = Image.open('samples/' + img_path).convert('RGB')\n",
    "    boxes = [line[0] for line in result]\n",
    "    txts = [line[1][0] for line in result]\n",
    "    scores = [line[1][1] for line in result]\n",
    "    im_show = draw_ocr(image, boxes, txts, scores, font_path='./fonts/arial.ttf')\n",
    "    im_show = Image.fromarray(im_show)\n",
    "    im_show.save('result' + str(count) + '.jpg')\n",
    "    count+=1"
   ]
  },
  {
   "cell_type": "code",
   "execution_count": 61,
   "metadata": {},
   "outputs": [
    {
     "name": "stdout",
     "output_type": "stream",
     "text": [
      "[2023/08/02 08:08:21] ppocr DEBUG: dt_boxes num : 7, elapse : 0.4405667781829834\n",
      "[2023/08/02 08:08:21] ppocr DEBUG: cls num  : 7, elapse : 0.08431744575500488\n",
      "[2023/08/02 08:08:23] ppocr DEBUG: rec_res num  : 7, elapse : 1.6349384784698486\n",
      "[[[180.0, 70.0], [1722.0, 61.0], [1722.0, 182.0], [180.0, 191.0]], ('Did you ever hear the', 0.9745365381240845)]\n",
      "[[[80.0, 234.0], [1844.0, 230.0], [1844.0, 357.0], [80.0, 361.0]], ('tragedy of Darth Plagueis', 0.9903696179389954)]\n",
      "[[[85.0, 385.0], [1806.0, 397.0], [1805.0, 538.0], [84.0, 526.0]], ('the Wise? I thought not.', 0.9985902905464172)]\n",
      "[[[152.0, 563.0], [1201.0, 591.0], [1198.0, 718.0], [149.0, 690.0]], (\"It's not a story\", 0.9954899549484253)]\n",
      "[[[1232.0, 588.0], [1783.0, 581.0], [1784.0, 691.0], [1233.0, 697.0]], ('the Jeci', 0.931315541267395)]\n",
      "[[[91.0, 740.0], [1840.0, 751.0], [1839.0, 878.0], [90.0, 867.0]], (\"would tell you. It's a Sith\", 0.9662831425666809)]\n",
      "[[[706.0, 912.0], [1249.0, 924.0], [1246.0, 1049.0], [703.0, 1038.0]], ('legerd.', 0.8964492678642273)]\n"
     ]
    }
   ],
   "source": [
    "# count = 0\n",
    "# for filename in os.listdir(\"samples\"):\n",
    "img_path = 'sample5.jpg'\n",
    "result = ocr.ocr('samples/' + img_path, cls=True)\n",
    "for idx in range(len(result)):\n",
    "    res = result[idx]\n",
    "    for line in res:\n",
    "        print(line)\n",
    "\n",
    "\n",
    "# draw result\n",
    "result = result[0]\n",
    "image = Image.open('samples/' + img_path).convert('RGB')\n",
    "boxes = [line[0] for line in result]\n",
    "txts = [line[1][0] for line in result]\n",
    "scores = [line[1][1] for line in result]\n",
    "im_show = draw_ocr(image, boxes, txts, scores, font_path='./fonts/arial.ttf')\n",
    "im_show = Image.fromarray(im_show)\n",
    "im_show.save('result.pdf')\n",
    "    # count+=1"
   ]
  },
  {
   "cell_type": "code",
   "execution_count": 67,
   "metadata": {},
   "outputs": [
    {
     "name": "stdout",
     "output_type": "stream",
     "text": [
      "Help on function ocr in module paddleocr.paddleocr:\n",
      "\n",
      "ocr(self, img, det=True, rec=True, cls=True)\n",
      "    ocr with paddleocr\n",
      "    args：\n",
      "        img: img for ocr, support ndarray, img_path and list or ndarray\n",
      "        det: use text detection or not. If false, only rec will be exec. Default is True\n",
      "        rec: use text recognition or not. If false, only det will be exec. Default is True\n",
      "        cls: use angle classifier or not. Default is True. If true, the text with rotation of 180 degrees can be recognized. If no text is rotated by 180 degrees, use cls=False to get better performance. Text with rotation of 90 or 270 degrees can be recognized even if cls=False.\n",
      "\n"
     ]
    }
   ],
   "source": []
  }
 ],
 "metadata": {
  "kernelspec": {
   "display_name": "Python 3",
   "language": "python",
   "name": "python3"
  },
  "language_info": {
   "codemirror_mode": {
    "name": "ipython",
    "version": 3
   },
   "file_extension": ".py",
   "mimetype": "text/x-python",
   "name": "python",
   "nbconvert_exporter": "python",
   "pygments_lexer": "ipython3",
   "version": "3.9.13"
  },
  "orig_nbformat": 4
 },
 "nbformat": 4,
 "nbformat_minor": 2
}
